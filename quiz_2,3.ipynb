{
  "nbformat": 4,
  "nbformat_minor": 0,
  "metadata": {
    "colab": {
      "provenance": []
    },
    "kernelspec": {
      "name": "python3",
      "display_name": "Python 3"
    },
    "language_info": {
      "name": "python"
    }
  },
  "cells": [
    {
      "cell_type": "code",
      "execution_count": null,
      "metadata": {
        "id": "Sikc9y-QBwJO"
      },
      "outputs": [],
      "source": [
        "a=[10,20,30,40,50]"
      ]
    },
    {
      "cell_type": "code",
      "source": [
        "# Helper function to create linked lists from lists\n",
        "def create_linked_list(arr):\n",
        "    dummy_head = ListNode(0)\n",
        "    current = dummy_head\n",
        "    for val in arr:\n",
        "        current.next = ListNode(val)\n",
        "        current = current.next\n",
        "    return dummy_head.next\n",
        "\n",
        "# Example usage\n",
        "l1 = create_linked_list([2, 4, 3])\n",
        "l2 = create_linked_list([5, 6, 4])\n",
        "result = addTwoNumbers(l1, l2)\n",
        "\n",
        "# Print the result\n",
        "while result:\n",
        "    print(result.val, end=\" -> \")\n",
        "    result = result.next\n"
      ],
      "metadata": {
        "colab": {
          "base_uri": "https://localhost:8080/",
          "height": 367
        },
        "id": "vh7DYx5WQKyk",
        "outputId": "b13b11d1-4ab3-41e5-8f2a-c6de1007db16"
      },
      "execution_count": null,
      "outputs": [
        {
          "output_type": "error",
          "ename": "NameError",
          "evalue": "ignored",
          "traceback": [
            "\u001b[0;31m---------------------------------------------------------------------------\u001b[0m",
            "\u001b[0;31mNameError\u001b[0m                                 Traceback (most recent call last)",
            "\u001b[0;32m<ipython-input-1-ec0f68c45ed3>\u001b[0m in \u001b[0;36m<cell line: 11>\u001b[0;34m()\u001b[0m\n\u001b[1;32m      9\u001b[0m \u001b[0;34m\u001b[0m\u001b[0m\n\u001b[1;32m     10\u001b[0m \u001b[0;31m# Example usage\u001b[0m\u001b[0;34m\u001b[0m\u001b[0;34m\u001b[0m\u001b[0m\n\u001b[0;32m---> 11\u001b[0;31m \u001b[0ml1\u001b[0m \u001b[0;34m=\u001b[0m \u001b[0mcreate_linked_list\u001b[0m\u001b[0;34m(\u001b[0m\u001b[0;34m[\u001b[0m\u001b[0;36m2\u001b[0m\u001b[0;34m,\u001b[0m \u001b[0;36m4\u001b[0m\u001b[0;34m,\u001b[0m \u001b[0;36m3\u001b[0m\u001b[0;34m]\u001b[0m\u001b[0;34m)\u001b[0m\u001b[0;34m\u001b[0m\u001b[0;34m\u001b[0m\u001b[0m\n\u001b[0m\u001b[1;32m     12\u001b[0m \u001b[0ml2\u001b[0m \u001b[0;34m=\u001b[0m \u001b[0mcreate_linked_list\u001b[0m\u001b[0;34m(\u001b[0m\u001b[0;34m[\u001b[0m\u001b[0;36m5\u001b[0m\u001b[0;34m,\u001b[0m \u001b[0;36m6\u001b[0m\u001b[0;34m,\u001b[0m \u001b[0;36m4\u001b[0m\u001b[0;34m]\u001b[0m\u001b[0;34m)\u001b[0m\u001b[0;34m\u001b[0m\u001b[0;34m\u001b[0m\u001b[0m\n\u001b[1;32m     13\u001b[0m \u001b[0mresult\u001b[0m \u001b[0;34m=\u001b[0m \u001b[0maddTwoNumbers\u001b[0m\u001b[0;34m(\u001b[0m\u001b[0ml1\u001b[0m\u001b[0;34m,\u001b[0m \u001b[0ml2\u001b[0m\u001b[0;34m)\u001b[0m\u001b[0;34m\u001b[0m\u001b[0;34m\u001b[0m\u001b[0m\n",
            "\u001b[0;32m<ipython-input-1-ec0f68c45ed3>\u001b[0m in \u001b[0;36mcreate_linked_list\u001b[0;34m(arr)\u001b[0m\n\u001b[1;32m      1\u001b[0m \u001b[0;31m# Helper function to create linked lists from lists\u001b[0m\u001b[0;34m\u001b[0m\u001b[0;34m\u001b[0m\u001b[0m\n\u001b[1;32m      2\u001b[0m \u001b[0;32mdef\u001b[0m \u001b[0mcreate_linked_list\u001b[0m\u001b[0;34m(\u001b[0m\u001b[0marr\u001b[0m\u001b[0;34m)\u001b[0m\u001b[0;34m:\u001b[0m\u001b[0;34m\u001b[0m\u001b[0;34m\u001b[0m\u001b[0m\n\u001b[0;32m----> 3\u001b[0;31m     \u001b[0mdummy_head\u001b[0m \u001b[0;34m=\u001b[0m \u001b[0mListNode\u001b[0m\u001b[0;34m(\u001b[0m\u001b[0;36m0\u001b[0m\u001b[0;34m)\u001b[0m\u001b[0;34m\u001b[0m\u001b[0;34m\u001b[0m\u001b[0m\n\u001b[0m\u001b[1;32m      4\u001b[0m     \u001b[0mcurrent\u001b[0m \u001b[0;34m=\u001b[0m \u001b[0mdummy_head\u001b[0m\u001b[0;34m\u001b[0m\u001b[0;34m\u001b[0m\u001b[0m\n\u001b[1;32m      5\u001b[0m     \u001b[0;32mfor\u001b[0m \u001b[0mval\u001b[0m \u001b[0;32min\u001b[0m \u001b[0marr\u001b[0m\u001b[0;34m:\u001b[0m\u001b[0;34m\u001b[0m\u001b[0;34m\u001b[0m\u001b[0m\n",
            "\u001b[0;31mNameError\u001b[0m: name 'ListNode' is not defined"
          ]
        }
      ]
    },
    {
      "cell_type": "code",
      "source": [
        "class Node:\n",
        "  def __init__(self,elem,next = None):\n",
        "    self.elem,self.next = elem,next"
      ],
      "metadata": {
        "id": "2idFAnycC21h"
      },
      "execution_count": null,
      "outputs": []
    },
    {
      "cell_type": "code",
      "source": [
        "a=[10,20,30,40,50]\n",
        "class Node:\n",
        "  def __init__(self,elem,next_1 = None):\n",
        "    self.elem= elem\n",
        "    self.next =next_1\n",
        "\n",
        "head=Node(a[0],None)\n",
        "tail=head\n",
        "for i in range(1,len(a)):\n",
        "  n=Node(a[i],None)\n",
        "  tail.next=n\n",
        "  tail=n\n",
        "print(tail)\n",
        "\n",
        "c=0\n",
        "i= head\n",
        "while i!=0:\n",
        "  c+=1\n",
        "  i= i.next\n",
        "print(c)"
      ],
      "metadata": {
        "colab": {
          "base_uri": "https://localhost:8080/",
          "height": 246
        },
        "id": "ikpl9UnKB4H9",
        "outputId": "d18bb9c3-b37b-4180-9488-5ec1987adc50"
      },
      "execution_count": null,
      "outputs": [
        {
          "output_type": "stream",
          "name": "stdout",
          "text": [
            "<__main__.Node object at 0x79975d222920>\n"
          ]
        },
        {
          "output_type": "error",
          "ename": "AttributeError",
          "evalue": "ignored",
          "traceback": [
            "\u001b[0;31m---------------------------------------------------------------------------\u001b[0m",
            "\u001b[0;31mAttributeError\u001b[0m                            Traceback (most recent call last)",
            "\u001b[0;32m<ipython-input-22-8994c95c22e8>\u001b[0m in \u001b[0;36m<cell line: 17>\u001b[0;34m()\u001b[0m\n\u001b[1;32m     17\u001b[0m \u001b[0;32mwhile\u001b[0m \u001b[0mi\u001b[0m\u001b[0;34m!=\u001b[0m\u001b[0;36m0\u001b[0m\u001b[0;34m:\u001b[0m\u001b[0;34m\u001b[0m\u001b[0;34m\u001b[0m\u001b[0m\n\u001b[1;32m     18\u001b[0m   \u001b[0mc\u001b[0m\u001b[0;34m+=\u001b[0m\u001b[0;36m1\u001b[0m\u001b[0;34m\u001b[0m\u001b[0;34m\u001b[0m\u001b[0m\n\u001b[0;32m---> 19\u001b[0;31m   \u001b[0mi\u001b[0m\u001b[0;34m=\u001b[0m \u001b[0mi\u001b[0m\u001b[0;34m.\u001b[0m\u001b[0mnext\u001b[0m\u001b[0;34m\u001b[0m\u001b[0;34m\u001b[0m\u001b[0m\n\u001b[0m\u001b[1;32m     20\u001b[0m \u001b[0mprint\u001b[0m\u001b[0;34m(\u001b[0m\u001b[0mc\u001b[0m\u001b[0;34m)\u001b[0m\u001b[0;34m\u001b[0m\u001b[0;34m\u001b[0m\u001b[0m\n",
            "\u001b[0;31mAttributeError\u001b[0m: 'NoneType' object has no attribute 'next'"
          ]
        }
      ]
    },
    {
      "cell_type": "code",
      "source": [],
      "metadata": {
        "id": "Q0IAih85GSKb"
      },
      "execution_count": null,
      "outputs": []
    },
    {
      "cell_type": "code",
      "source": [
        "a = [10, 20, 30, 40, 50]\n",
        "\n",
        "class Node:\n",
        "    def __init__(self, elem, next_node=None):\n",
        "        self.elem = elem\n",
        "        self.next = next_node\n",
        "\n",
        "head = Node(a[0], None)\n",
        "tail = head\n",
        "\n",
        "for i in range(1, len(a)):\n",
        "    n = Node(a[i], None)\n",
        "    tail.next = n\n",
        "    tail = n\n",
        "\n",
        "c = 0\n",
        "i = head\n",
        "\n",
        "while i is not None:  # Change i!=0 to i is not None\n",
        "    c += 1\n",
        "    i = i.next\n",
        "\n",
        "print(c)\n"
      ],
      "metadata": {
        "colab": {
          "base_uri": "https://localhost:8080/"
        },
        "id": "gtyLYhimFu6k",
        "outputId": "0a8e820d-c113-466a-db03-45e90153fca8"
      },
      "execution_count": null,
      "outputs": [
        {
          "output_type": "stream",
          "name": "stdout",
          "text": [
            "5\n"
          ]
        }
      ]
    },
    {
      "cell_type": "code",
      "source": [
        "a = [10, 20, 30, 40, 50]\n",
        "\n",
        "class Node:\n",
        "    def __init__(self, elem, next_node=None):\n",
        "        self.elem = elem\n",
        "        self.next = next_node\n",
        "\n",
        "head = Node(a[0], None)\n",
        "tail = head\n",
        "\n",
        "for i in range(1, len(a)):\n",
        "    n = Node(a[i], None)\n",
        "    tail.next = n\n",
        "    tail = n\n",
        "\n",
        "i=head\n",
        "\n",
        "\n",
        "while i!=None:\n",
        "  print(i.elem)\n",
        "  i=i.next"
      ],
      "metadata": {
        "colab": {
          "base_uri": "https://localhost:8080/"
        },
        "id": "YXsT5gX0GbTT",
        "outputId": "27d270f9-97d1-4cde-b131-559b215af72f"
      },
      "execution_count": null,
      "outputs": [
        {
          "output_type": "stream",
          "name": "stdout",
          "text": [
            "10\n",
            "20\n",
            "30\n",
            "40\n",
            "50\n"
          ]
        }
      ]
    },
    {
      "cell_type": "code",
      "source": [
        "a = [10, 20, 30, 40, 50]\n",
        "\n",
        "class Node:\n",
        "    def __init__(self, elem, next_node=None):\n",
        "        self.elem = elem\n",
        "        self.next = next_node\n",
        "\n",
        "# def fun(a,idx):\n",
        "head = Node(a[0], None)\n",
        "tail = head\n",
        "\n",
        "for i in range(1, len(a)):\n",
        "    n = Node(a[i], None)\n",
        "    tail.next = n\n",
        "    tail = n\n",
        "idx=int(input(\"enter:\"))\n",
        "i=head\n",
        "c=0\n",
        "while i!=None:\n",
        "  if c==idx:\n",
        "    print(i.elem)\n",
        "  c+=1\n",
        "  i=i.next\n",
        "\n",
        "\n",
        "# idx=int(input(\"enter:\"))\n",
        "# fun(a,idx)\n",
        "\n",
        "\n"
      ],
      "metadata": {
        "colab": {
          "base_uri": "https://localhost:8080/"
        },
        "id": "ZeTdq9d-Qxnk",
        "outputId": "08fd5afd-4cca-4f09-893a-67b57819a37c"
      },
      "execution_count": null,
      "outputs": [
        {
          "name": "stdout",
          "output_type": "stream",
          "text": [
            "enter:40\n"
          ]
        }
      ]
    },
    {
      "cell_type": "code",
      "source": [
        "a = [10, 20, 30, 40, 50]\n",
        "\n",
        "class Node:\n",
        "    def __init__(self, elem, next_node=None):\n",
        "        self.elem = elem\n",
        "        self.next = next_node\n",
        "\n",
        "head = Node(a[0], None)\n",
        "tail = head\n",
        "\n",
        "for i in range(1, len(a)):\n",
        "    n = Node(a[i], None)\n",
        "    tail.next = n\n",
        "    tail = n\n",
        "val=int(input(\"enert:\"))\n",
        "c=0\n",
        "i=head\n",
        "while i!=0:\n",
        "  if i.elem== val:\n",
        "    print(c)\n",
        "  else:\n",
        "    None\n",
        "  c+=1\n",
        "  i=i.next"
      ],
      "metadata": {
        "colab": {
          "base_uri": "https://localhost:8080/",
          "height": 280
        },
        "id": "AeMv9XPJRuJ2",
        "outputId": "04e1ac51-2606-4513-fc08-e97dbf637ec2"
      },
      "execution_count": null,
      "outputs": [
        {
          "output_type": "stream",
          "name": "stdout",
          "text": [
            "enert:30\n",
            "2\n"
          ]
        },
        {
          "output_type": "error",
          "ename": "AttributeError",
          "evalue": "ignored",
          "traceback": [
            "\u001b[0;31m---------------------------------------------------------------------------\u001b[0m",
            "\u001b[0;31mAttributeError\u001b[0m                            Traceback (most recent call last)",
            "\u001b[0;32m<ipython-input-30-d1000aaec6d6>\u001b[0m in \u001b[0;36m<cell line: 18>\u001b[0;34m()\u001b[0m\n\u001b[1;32m     17\u001b[0m \u001b[0mi\u001b[0m\u001b[0;34m=\u001b[0m\u001b[0mhead\u001b[0m\u001b[0;34m\u001b[0m\u001b[0;34m\u001b[0m\u001b[0m\n\u001b[1;32m     18\u001b[0m \u001b[0;32mwhile\u001b[0m \u001b[0mi\u001b[0m\u001b[0;34m!=\u001b[0m\u001b[0;36m0\u001b[0m\u001b[0;34m:\u001b[0m\u001b[0;34m\u001b[0m\u001b[0;34m\u001b[0m\u001b[0m\n\u001b[0;32m---> 19\u001b[0;31m   \u001b[0;32mif\u001b[0m \u001b[0mi\u001b[0m\u001b[0;34m.\u001b[0m\u001b[0melem\u001b[0m\u001b[0;34m==\u001b[0m \u001b[0mval\u001b[0m\u001b[0;34m:\u001b[0m\u001b[0;34m\u001b[0m\u001b[0;34m\u001b[0m\u001b[0m\n\u001b[0m\u001b[1;32m     20\u001b[0m     \u001b[0mprint\u001b[0m\u001b[0;34m(\u001b[0m\u001b[0mc\u001b[0m\u001b[0;34m)\u001b[0m\u001b[0;34m\u001b[0m\u001b[0;34m\u001b[0m\u001b[0m\n\u001b[1;32m     21\u001b[0m   \u001b[0;32melse\u001b[0m\u001b[0;34m:\u001b[0m\u001b[0;34m\u001b[0m\u001b[0;34m\u001b[0m\u001b[0m\n",
            "\u001b[0;31mAttributeError\u001b[0m: 'NoneType' object has no attribute 'elem'"
          ]
        }
      ]
    },
    {
      "cell_type": "code",
      "source": [
        "a = [10, 20, 30, 40, 50]\n",
        "\n",
        "class Node:\n",
        "    def __init__(self, elem, next_node=None):\n",
        "        self.elem = elem\n",
        "        self.next = next_node\n",
        "\n",
        "head = Node(a[0], None)\n",
        "tail = head\n",
        "\n",
        "for i in range(1, len(a)):\n",
        "    n = Node(a[i], None)\n",
        "    tail.next = n\n",
        "    tail = n\n",
        "val=int(input(\"enert:\"))\n",
        "idx=int(input(\"enert:\"))\n",
        "c=0\n",
        "i=head\n",
        "while i!=None:\n",
        "  if c==idx:\n",
        "    i.elem=val\n",
        "    print(i.elem)\n",
        "    break\n",
        "  c+=1\n",
        "  i=i.next"
      ],
      "metadata": {
        "colab": {
          "base_uri": "https://localhost:8080/"
        },
        "id": "VpH9cSyVTPqQ",
        "outputId": "f11699b9-c984-4e0f-bdbd-949ab4e5c06e"
      },
      "execution_count": null,
      "outputs": [
        {
          "output_type": "stream",
          "name": "stdout",
          "text": [
            "enert:300\n",
            "enert:2\n",
            "300\n"
          ]
        }
      ]
    },
    {
      "cell_type": "code",
      "source": [
        "a = [10, 20, 30, 40, 50]\n",
        "\n",
        "class Node:\n",
        "    def __init__(self, elem, next_node=None):\n",
        "        self.elem = elem\n",
        "        self.next = next_node\n",
        "\n",
        "head = Node(a[0], None)\n",
        "tail = head\n",
        "\n",
        "for i in range(1, len(a)):\n",
        "    n = Node(a[i], None)\n",
        "    tail.next = n\n",
        "    tail = n\n",
        "\n",
        "\n",
        "\n",
        "val=int(input(\"enert:\"))\n",
        "idx=int(input(\"enert:\"))\n",
        "\n",
        "def fun(val,idx,a,head):\n",
        "  if idx ==0:\n",
        "    n=Node(val,None)\n",
        "    n.next=head\n",
        "    head=n\n",
        "  else:\n",
        "    c=0\n",
        "    i=head\n",
        "    while i!=None:\n",
        "      if c==idx-1:\n",
        "        n=Node(val, None)\n",
        "        n.next=i.next\n",
        "        i.next=n\n",
        "      c+=1\n",
        "      i=i.next\n",
        "  current = head\n",
        "  while current is not None:\n",
        "      print(current.elem)\n",
        "      current = current.next\n",
        "fun(val,idx,a,head)"
      ],
      "metadata": {
        "colab": {
          "base_uri": "https://localhost:8080/"
        },
        "id": "O8HLYYSfWdt3",
        "outputId": "85570aa7-f14c-416b-a43a-8718894202d6"
      },
      "execution_count": null,
      "outputs": [
        {
          "output_type": "stream",
          "name": "stdout",
          "text": [
            "enert:35\n",
            "enert:3\n",
            "10\n",
            "20\n",
            "30\n",
            "35\n",
            "40\n",
            "50\n"
          ]
        }
      ]
    },
    {
      "cell_type": "code",
      "source": [
        "a = [10, 20, 30, 40, 50]\n",
        "\n",
        "class Node:\n",
        "    def __init__(self, elem, next_node=None):\n",
        "        self.elem = elem\n",
        "        self.next = next_node\n",
        "\n",
        "head = Node(a[0], None)\n",
        "tail = head\n",
        "\n",
        "for i in range(1, len(a)):\n",
        "    n = Node(a[i], None)\n",
        "    tail.next = n\n",
        "    tail = n\n",
        "\n",
        "\n",
        "\n",
        "val=int(input(\"enert:\"))\n",
        "idx=int(input(\"enert:\"))\n",
        "if idx == 0:\n",
        "    head = head.next\n",
        "else:\n",
        "    c = 0\n",
        "    i = head\n",
        "    while  i!= None:\n",
        "        if c == idx - 1:\n",
        "            temp = i.next\n",
        "            if temp != None:\n",
        "                i.next = temp.next\n",
        "                temp = None\n",
        "                break\n",
        "        c += 1\n",
        "        i = i.next\n",
        "j=head\n",
        "while i!=None:\n",
        "  print(j.elem)\n",
        "  j=j.next"
      ],
      "metadata": {
        "colab": {
          "base_uri": "https://localhost:8080/",
          "height": 333
        },
        "id": "r80zWjW-u-F6",
        "outputId": "6c2d45f5-93ac-498f-bfba-ecba92036ed1"
      },
      "execution_count": null,
      "outputs": [
        {
          "output_type": "stream",
          "name": "stdout",
          "text": [
            "enert:30\n",
            "enert:2\n",
            "10\n",
            "20\n",
            "40\n",
            "50\n"
          ]
        },
        {
          "output_type": "error",
          "ename": "AttributeError",
          "evalue": "ignored",
          "traceback": [
            "\u001b[0;31m---------------------------------------------------------------------------\u001b[0m",
            "\u001b[0;31mAttributeError\u001b[0m                            Traceback (most recent call last)",
            "\u001b[0;32m<ipython-input-3-ee2797fb44ca>\u001b[0m in \u001b[0;36m<cell line: 35>\u001b[0;34m()\u001b[0m\n\u001b[1;32m     34\u001b[0m \u001b[0mj\u001b[0m\u001b[0;34m=\u001b[0m\u001b[0mhead\u001b[0m\u001b[0;34m\u001b[0m\u001b[0;34m\u001b[0m\u001b[0m\n\u001b[1;32m     35\u001b[0m \u001b[0;32mwhile\u001b[0m \u001b[0mi\u001b[0m\u001b[0;34m!=\u001b[0m\u001b[0;32mNone\u001b[0m\u001b[0;34m:\u001b[0m\u001b[0;34m\u001b[0m\u001b[0;34m\u001b[0m\u001b[0m\n\u001b[0;32m---> 36\u001b[0;31m   \u001b[0mprint\u001b[0m\u001b[0;34m(\u001b[0m\u001b[0mj\u001b[0m\u001b[0;34m.\u001b[0m\u001b[0melem\u001b[0m\u001b[0;34m)\u001b[0m\u001b[0;34m\u001b[0m\u001b[0;34m\u001b[0m\u001b[0m\n\u001b[0m\u001b[1;32m     37\u001b[0m   \u001b[0mj\u001b[0m\u001b[0;34m=\u001b[0m\u001b[0mj\u001b[0m\u001b[0;34m.\u001b[0m\u001b[0mnext\u001b[0m\u001b[0;34m\u001b[0m\u001b[0;34m\u001b[0m\u001b[0m\n",
            "\u001b[0;31mAttributeError\u001b[0m: 'NoneType' object has no attribute 'elem'"
          ]
        }
      ]
    }
  ]
}