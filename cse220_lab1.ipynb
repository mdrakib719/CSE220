{
  "nbformat": 4,
  "nbformat_minor": 0,
  "metadata": {
    "colab": {
      "provenance": []
    },
    "kernelspec": {
      "name": "python3",
      "display_name": "Python 3"
    },
    "language_info": {
      "name": "python"
    }
  },
  "cells": [
    {
      "cell_type": "code",
      "execution_count": null,
      "metadata": {
        "colab": {
          "base_uri": "https://localhost:8080/"
        },
        "id": "Ksa1B85uyeSx",
        "outputId": "83542af8-9c2b-4d07-98e6-e74eac1c74fa"
      },
      "outputs": [
        {
          "output_type": "stream",
          "name": "stdout",
          "text": [
            "[40, 50, 60, 10, 20, 30]\n",
            "[10, 30, 50, 2, None, None, None, None, None]\n",
            "[4, 17, 6, 27, 2]\n",
            "False\n",
            "True\n",
            "[0, 0, 0, 0, 0, 0, 0, 0, 0]\n",
            "[0, 0, 0, 2, 3, 0, 4, 1, 1]\n",
            "True\n",
            "[0, 0, 0, 0, 0, 0, 0]\n",
            "[0, 0, 0, 1, 3, 1, 3]\n",
            "True\n"
          ]
        }
      ],
      "source": [
        "\n",
        "#1\n",
        "sequence=[10,20,30,40,50,60]\n",
        "beats = [1,0,0,1,0,1]\n",
        "\n",
        "def playRight(serial,signal):\n",
        "    for j in range(len(signal)):\n",
        "        if signal[j]==1:\n",
        "            first=serial[len(serial)-1]\n",
        "            for i in range(len(serial)-1,0,-1):\n",
        "                serial[i]=serial[i-1]\n",
        "            serial[0]=first\n",
        "        else:\n",
        "            pass\n",
        "    return serial\n",
        "print(playRight(sequence,beats))\n",
        "\n",
        "#2\n",
        "cards=[10,2,30,2,50,2,2,None,None]\n",
        "\n",
        "def discardCards(set,number):\n",
        "    length=len(set)\n",
        "    for i in range(len(set)):\n",
        "        if set[i]==number:\n",
        "            for j in range(i+1,length):\n",
        "                set[j-1]=set[j]\n",
        "            set[length-1]=None\n",
        "    return set\n",
        "\n",
        "print(discardCards(cards,2))\n",
        "print(\"3\")\n",
        "#3\n",
        "pokemon_1=[4, 5, -1, None, None]\n",
        "pokemon_2=[2, 27, 7, 12, None]\n",
        "\n",
        "def mergeLineup(mypok,oppok):\n",
        "    newpok=[None]*len(mypok)\n",
        "    for i in range(len(mypok)):\n",
        "        if mypok[i]==None:\n",
        "            mypok[i]=0\n",
        "        if oppok[i]==None:\n",
        "            oppok[i]=0\n",
        "    for j in range(len(mypok)):\n",
        "            newpok[j]=mypok[j]+oppok[len(oppok)-j-1]\n",
        "    return newpok\n",
        "\n",
        "print(mergeLineup(pokemon_1, pokemon_2))\n",
        "\n",
        "\n",
        "#4\n",
        "salami=[2, 1, 1, 2, 1]\n",
        "salami2=[10, 3, 1, 2, 10]\n",
        "\n",
        "def balanceSalami(amount):\n",
        "    flag=False\n",
        "    ftotal=0\n",
        "    btotal=sum(amount)\n",
        "    for i in range(len(amount)-1):\n",
        "        ftotal =ftotal+amount[i]\n",
        "        btotal =btotal-amount[i]\n",
        "        if ftotal==btotal:\n",
        "            flag=True\n",
        "    return flag\n",
        "\n",
        "\n",
        "print(balanceSalami(salami))\n",
        "print(balanceSalami(salami2))\n",
        "\n",
        "#4\n",
        "salami=[4,5,6,6,4,3,6,4]\n",
        "\n",
        "def protectSalami(salami):\n",
        "    note_counts = [0] * (max(salami) + 1)\n",
        "    print(note_counts)\n",
        "\n",
        "    # Count the repetitions of each note\n",
        "    for note in salami:\n",
        "        note_counts[note] += 1\n",
        "    print(note_counts)\n",
        "\n",
        "    # Check if at least two notes have the same repetition\n",
        "    for count in note_counts:\n",
        "        if count >= 2:\n",
        "            return True\n",
        "    print(note_counts)\n",
        "    return False\n",
        "\n",
        "\n",
        "arr=[3,4,6,3,4,7,4,6,8,6,6]\n",
        "print(protectSalami(arr))\n",
        "print(protectSalami(salami))\n"
      ]
    },
    {
      "cell_type": "code",
      "source": [
        "#3\n",
        "pokemon_1=[4, 5, -1, None, None]\n",
        "pokemon_2=[2, 27, 7, 12, None]\n",
        "\n",
        "def mergeLineup(mypok,oppok):\n",
        "    newpok=[None]*len(mypok)\n",
        "    for i in range(len(mypok)):\n",
        "        if mypok[i]==None:\n",
        "            mypok[i]=0\n",
        "        if oppok[i]==None:\n",
        "            oppok[i]=0\n",
        "    for j in range(len(mypok)):\n",
        "            newpok[j]=mypok[j]+oppok[len(oppok)-j-1]\n",
        "    return newpok\n",
        "\n",
        "print(mergeLineup(pokemon_1, pokemon_2))"
      ],
      "metadata": {
        "id": "kODz3gLaKmuG"
      },
      "execution_count": null,
      "outputs": []
    }
  ]
}