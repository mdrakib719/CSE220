{
  "nbformat": 4,
  "nbformat_minor": 0,
  "metadata": {
    "colab": {
      "provenance": []
    },
    "kernelspec": {
      "name": "python3",
      "display_name": "Python 3"
    },
    "language_info": {
      "name": "python"
    }
  },
  "cells": [
    {
      "cell_type": "code",
      "source": [
        "def pattern(n,val,hi=False):\n",
        "\n",
        "  print(n,end=\" \")\n",
        "  if not hi:\n",
        "    if n<40:\n",
        "      pattern(n+7,val)\n",
        "    else:\n",
        "      pattern(n-7,val,True)\n",
        "  else:\n",
        "    if n>val:\n",
        "      pattern(n-7,val,True)\n",
        "    elif n<val:\n",
        "      pattern(n+7,val)\n",
        "def pattern_p(num,pa):\n",
        "  if pa>0:\n",
        "    pattern(num,num)\n",
        "    print()\n",
        "    pattern_p(num+7,pa-1)\n",
        "\n",
        "num=12\n",
        "pattern_p(num,4)\n"
      ],
      "metadata": {
        "colab": {
          "base_uri": "https://localhost:8080/"
        },
        "id": "WF69aLEOyGaQ",
        "outputId": "1e9b43d1-624c-4559-fca4-f01fad99e8b2"
      },
      "execution_count": null,
      "outputs": [
        {
          "output_type": "stream",
          "name": "stdout",
          "text": [
            "12 19 26 33 40 33 26 19 12 \n",
            "19 26 33 40 33 26 19 \n",
            "26 33 40 33 26 \n",
            "33 40 33 \n"
          ]
        }
      ]
    }
  ]
}