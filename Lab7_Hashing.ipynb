{
  "nbformat": 4,
  "nbformat_minor": 0,
  "metadata": {
    "colab": {
      "provenance": []
    },
    "kernelspec": {
      "name": "python3",
      "display_name": "Python 3"
    },
    "language_info": {
      "name": "python"
    }
  },
  "cells": [
    {
      "cell_type": "code",
      "execution_count": null,
      "metadata": {
        "colab": {
          "base_uri": "https://localhost:8080/"
        },
        "id": "CvHWU9VwU1DB",
        "outputId": "90097203-df38-47f1-f7f1-f40f1672bfc7"
      },
      "outputs": [
        {
          "output_type": "stream",
          "name": "stdout",
          "text": [
            "Requirement already satisfied: fhm-unittest in /usr/local/lib/python3.10/dist-packages (1.0.1)\n",
            "Requirement already satisfied: fuzzywuzzy in /usr/local/lib/python3.10/dist-packages (0.18.0)\n"
          ]
        }
      ],
      "source": [
        "# You must run this cell to install dependency\n",
        "! pip3 install fhm-unittest\n",
        "! pip3 install fuzzywuzzy\n",
        "import fhm_unittest as unittest\n",
        "import numpy as np"
      ]
    },
    {
      "cell_type": "markdown",
      "source": [
        "Run this cell first"
      ],
      "metadata": {
        "id": "uuc9lAd6YgTI"
      }
    },
    {
      "cell_type": "code",
      "source": [
        "class Node:\n",
        "  def __init__(self, elem, next = None):\n",
        "    self.elem, self.next = elem, next\n",
        "\n",
        "def create_linked_list(arr):\n",
        "  head = Node(arr[0])\n",
        "  tail = head\n",
        "  for i in arr[1:]:\n",
        "    new_node = Node(i)\n",
        "    tail.next = new_node\n",
        "    tail = new_node\n",
        "  return head\n",
        "\n",
        "def count(head):\n",
        "  count = 0\n",
        "  while head != None:\n",
        "    count += 1\n",
        "    head = head.next\n",
        "  return count\n",
        "\n",
        "def print_linked_list(head):\n",
        "  while head != None:\n",
        "    print(head.elem, end = '-> ')\n",
        "    head = head.next\n",
        "  print('None')\n",
        "  print()"
      ],
      "metadata": {
        "id": "BQi67-3NU3GS"
      },
      "execution_count": null,
      "outputs": []
    },
    {
      "cell_type": "markdown",
      "source": [
        "#TASK 1\n",
        "> You can use Dictionary, Set and membership operator (in/not in) for this task. Membership Operator takes constant time in these unordered collections.\n",
        "\n",
        "\n",
        "\n",
        "However,\n",
        "\n",
        "\n",
        ">  ***DO NOT USE*** Membership Operator in List, String for this task.\n",
        "\n",
        "> You can traverse the array ***ONLY ONCE*** (i.e. no nested loop).\n",
        "\n",
        "\n",
        "\n"
      ],
      "metadata": {
        "id": "34hWSyDJYn25"
      }
    },
    {
      "cell_type": "code",
      "source": [
        "#Do by yourself\n",
        "def nerdy_run(path,k):\n",
        "  num={}\n",
        "  for i,j in enumerate(path):\n",
        "    if j in num and i-num[j]<=k:\n",
        "      return j\n",
        "    num[j]=i\n",
        "  return None"
      ],
      "metadata": {
        "id": "mi8D3lXRaEDL"
      },
      "execution_count": null,
      "outputs": []
    },
    {
      "cell_type": "code",
      "source": [
        "def main():\n",
        "\n",
        "  path = [6,7,8,9,5,9]\n",
        "  k = 3\n",
        "  result = nerdy_run(path,k)\n",
        "  unittest.output_test(result, 9)\n",
        "  print(f'Duplicate value within range {k} is: {result}') #Duplicate value within range 3 is: 9\n",
        "\n",
        "  print('===================================')\n",
        "  path = [6,7,8,9,5,6]\n",
        "  k = 4\n",
        "  result = nerdy_run(path,k)\n",
        "  unittest.output_test(result, None)\n",
        "  print(f'Duplicate value within range {k} is: {result}') #Duplicate value within range 4 is: None\n",
        "\n",
        "  print('===================================')\n",
        "  path = [0.21,1.21,4.67,0.21,0.45,1.9]\n",
        "  k = 7\n",
        "  result = nerdy_run(path,k)\n",
        "  unittest.output_test(result, 0.21)\n",
        "  print(f'Duplicate value within range {k} is: {result}') #Duplicate value within range 7 is: 0.21\n",
        "\n",
        "\n",
        "if __name__ == \"__main__\":\n",
        "  main()"
      ],
      "metadata": {
        "id": "eHa5uJahWA3o",
        "colab": {
          "base_uri": "https://localhost:8080/"
        },
        "outputId": "020f26a7-90a7-4d89-a4cf-d35381260a44"
      },
      "execution_count": null,
      "outputs": [
        {
          "output_type": "stream",
          "name": "stdout",
          "text": [
            "Accepted\n",
            "Duplicate value within range 3 is: 9\n",
            "===================================\n",
            "Accepted\n",
            "Duplicate value within range 4 is: None\n",
            "===================================\n",
            "Accepted\n",
            "Duplicate value within range 7 is: 0.21\n"
          ]
        }
      ]
    },
    {
      "cell_type": "markdown",
      "source": [
        "#TASK 2\n",
        "Complete the following methods:\n",
        "\n",
        ">  __hash_function()\n",
        "\n",
        "> search_hashtable()\n",
        "\n",
        "\n",
        "\n"
      ],
      "metadata": {
        "id": "B92R0bs3X_kI"
      }
    },
    {
      "cell_type": "code",
      "source": [
        "class Node_pair:\n",
        "    def __init__(self, key, value, next=None):\n",
        "        self.key, self.value, self.next = key, value, next\n",
        "\n",
        "\n",
        "class Hashtable:\n",
        "    def __init__(self, size):\n",
        "        self.size = size\n",
        "        self.ht = [None] * size\n",
        "\n",
        "    def insert(self, s):\n",
        "        if self.search_hashtable(s) == 'Found':\n",
        "            print(s, 'Already Inserted. Cannot reinsert.')\n",
        "            print('===============================')\n",
        "            return\n",
        "        hashed_index = self.__hash_function(s[0])\n",
        "        pair = Node_pair(s[0], s[1])\n",
        "        if self.ht[hashed_index] is None:\n",
        "            self.ht[hashed_index] = pair\n",
        "        else:\n",
        "            pair.next = self.ht[hashed_index]\n",
        "            self.ht[hashed_index] = pair\n",
        "\n",
        "    def create_from_array(self, arr):\n",
        "        for i in arr:\n",
        "            self.insert(i)\n",
        "\n",
        "    def print_hashtable(self):\n",
        "        idx = 0\n",
        "        for i in self.ht:\n",
        "            print(idx, ':', end=' ')\n",
        "            head = i\n",
        "            while head is not None:\n",
        "                print(f'(key: {head.key}, value: {head.value})', end='-->')\n",
        "                head = head.next\n",
        "            print('None')\n",
        "            print()\n",
        "            idx += 1\n",
        "\n",
        "    def __hash_function(self, s):\n",
        "      return sum(ord(char) for char in s)%self.size\n",
        "\n",
        "\n",
        "    def search_hashtable(self, s):\n",
        "      x=self.__hash_function(s[0])\n",
        "      y=self.ht[x]\n",
        "      while y is not None:\n",
        "        if y.key==s[0] and y.value==s[1]:\n",
        "          return 'Found'\n",
        "        y=y.next\n",
        "      return 'Not Found'\n"
      ],
      "metadata": {
        "id": "1aobPPrAVXCB"
      },
      "execution_count": null,
      "outputs": []
    },
    {
      "cell_type": "code",
      "source": [
        "arr = [('Colt', 360), ('Cordelius', 730), ('Shelly', 300), ('Doug', 1200), ('Emz', 520), ('Bo', 580)]\n",
        "ht = Hashtable(5)\n",
        "ht.create_from_array(arr)\n",
        "ht.print_hashtable()\n",
        "\n",
        "print('======================')\n",
        "result = ht.search_hashtable(('Doug', 1200))\n",
        "unittest.output_test(result, 'Found')\n",
        "print(f'(Doug, 1200) {result}')\n",
        "\n",
        "print('======================')\n",
        "ht.insert(('Doug', 1200))\n",
        "ht.print_hashtable()\n",
        "\n",
        "print('======================')\n",
        "result = ht.search_hashtable(('Edgar', 320))\n",
        "unittest.output_test(result, 'Not Found')\n",
        "print(f'(Edgar, 320) {result}')\n",
        "\n",
        "print('======================')\n",
        "ht.insert(('Edgar', 320))\n",
        "ht.print_hashtable()\n",
        "\n",
        "print('======================')\n",
        "result = ht.search_hashtable(('Edgar', 320))\n",
        "unittest.output_test(result, 'Found')\n",
        "print(f'(Edgar, 320) {result}')"
      ],
      "metadata": {
        "colab": {
          "base_uri": "https://localhost:8080/"
        },
        "id": "dpDpMZSgV_XU",
        "outputId": "404be56f-bf96-407d-bf34-23e01aeb051b"
      },
      "execution_count": null,
      "outputs": [
        {
          "output_type": "stream",
          "name": "stdout",
          "text": [
            "0 : (key: Emz, value: 520)-->(key: Shelly, value: 300)-->None\n",
            "\n",
            "1 : None\n",
            "\n",
            "2 : (key: Bo, value: 580)-->(key: Colt, value: 360)-->None\n",
            "\n",
            "3 : (key: Cordelius, value: 730)-->None\n",
            "\n",
            "4 : (key: Doug, value: 1200)-->None\n",
            "\n",
            "======================\n",
            "Accepted\n",
            "(Doug, 1200) Found\n",
            "======================\n",
            "('Doug', 1200) Already Inserted. Cannot reinsert.\n",
            "===============================\n",
            "0 : (key: Emz, value: 520)-->(key: Shelly, value: 300)-->None\n",
            "\n",
            "1 : None\n",
            "\n",
            "2 : (key: Bo, value: 580)-->(key: Colt, value: 360)-->None\n",
            "\n",
            "3 : (key: Cordelius, value: 730)-->None\n",
            "\n",
            "4 : (key: Doug, value: 1200)-->None\n",
            "\n",
            "======================\n",
            "Accepted\n",
            "(Edgar, 320) Not Found\n",
            "======================\n",
            "0 : (key: Emz, value: 520)-->(key: Shelly, value: 300)-->None\n",
            "\n",
            "1 : None\n",
            "\n",
            "2 : (key: Bo, value: 580)-->(key: Colt, value: 360)-->None\n",
            "\n",
            "3 : (key: Edgar, value: 320)-->(key: Cordelius, value: 730)-->None\n",
            "\n",
            "4 : (key: Doug, value: 1200)-->None\n",
            "\n",
            "======================\n",
            "Accepted\n",
            "(Edgar, 320) Found\n"
          ]
        }
      ]
    },
    {
      "cell_type": "markdown",
      "source": [
        "#TASK 3\n",
        "Complete the following methods:\n",
        "\n",
        "\n",
        "\n",
        "> create_layered_hashtable()\n",
        "\n",
        "> search_element()"
      ],
      "metadata": {
        "id": "DzykBxGicdBw"
      }
    },
    {
      "cell_type": "code",
      "source": [
        "class Layered_Hashtable:\n",
        "  def __init__(self, express_array_size):\n",
        "    self.express_array = [None] * express_array_size\n",
        "\n",
        "  def print_express_lane(self):\n",
        "    for i in self.express_array:\n",
        "      print(i.elem, end = ' '*10)\n",
        "    print()\n",
        "\n",
        "  def print_layered_hashtable(self):\n",
        "    print('Express Lane is:')\n",
        "    self.print_express_lane()\n",
        "\n",
        "    for i in range (len(self.express_array)-1):\n",
        "      node = self.express_array[i]\n",
        "      next_node = self.express_array[i+1]\n",
        "      print(f'Normal Lane Nodes between Express Lane Node {node.elem} and Express Lane Node {next_node.elem} are: ')\n",
        "      while node != next_node:\n",
        "        print(node.elem, end = '->')\n",
        "        node = node.next\n",
        "      print()\n",
        "\n",
        "    print(f'Normal Lane Nodes ending in the Express Lane Node: {node.elem}')\n",
        "\n",
        "\n",
        "  def create_layered_hashtable(self, linked_list_head):\n",
        "    node = count(linked_list_head)\n",
        "    size = (node//len(self.express_array))+1\n",
        "    tem=linked_list_head\n",
        "    x = 0\n",
        "    y= 0\n",
        "    while tem:\n",
        "      if x%size==0:\n",
        "        self.express_array[y]=tem\n",
        "        c=self.express_array[y]\n",
        "        x+=1\n",
        "        y+=1\n",
        "      else:\n",
        "        x+=1\n",
        "        c.next=tem\n",
        "        c=c.next\n",
        "      tem=tem.next\n",
        "    return self.express_array\n",
        "\n",
        "\n",
        "  def search_element(self,k):\n",
        "    l= len(self.express_array)\n",
        "    for i in range(l-1):\n",
        "      x= self.express_array[i]\n",
        "      y = self.express_array[i+1]\n",
        "      if k<self.express_array[0].elem or k>self.express_array[-1].elem:\n",
        "        return 'Not Found'\n",
        "      elif x.elem<=k<y.elem:\n",
        "        while x!=y:\n",
        "          if x.elem==k:\n",
        "            return 'Found'\n",
        "          x=x.next\n",
        "      elif k==self.express_array[-1].elem:\n",
        "        return 'Found'\n",
        "    return 'Not Found'"
      ],
      "metadata": {
        "id": "MkJtkO-ydCSw"
      },
      "execution_count": null,
      "outputs": []
    },
    {
      "cell_type": "code",
      "source": [
        "arr = [4,6,9,18,25,37,62,67,79,84]\n",
        "head = create_linked_list(arr)\n",
        "express_array_size = 4\n",
        "\n",
        "layered_ht = Layered_Hashtable(express_array_size)\n",
        "layered_ht.create_layered_hashtable(head)\n",
        "layered_ht.print_layered_hashtable()\n",
        "\n",
        "print('==========1===========')\n",
        "result = layered_ht.search_element(67)\n",
        "unittest.output_test(result, 'Found')\n",
        "print(f'67 {result}') #67 Found\n",
        "\n",
        "print('==========2===========')\n",
        "result = layered_ht.search_element(84)\n",
        "unittest.output_test(result, 'Found')\n",
        "print(f'84 {result}') #84 Found\n",
        "\n",
        "print('==========3===========')\n",
        "result = layered_ht.search_element(1)\n",
        "unittest.output_test(result, 'Not Found')\n",
        "print(f'1 {result}') #1 Not Found\n",
        "\n",
        "print('==========4===========')\n",
        "result = layered_ht.search_element(92)\n",
        "unittest.output_test(result, 'Not Found')\n",
        "print(f'92 {result}') #92 Not Found\n",
        "\n",
        "print('==========5===========')\n",
        "result = layered_ht.search_element(41)\n",
        "unittest.output_test(result, 'Not Found')\n",
        "print(f'41 {result}') #41 Not Found"
      ],
      "metadata": {
        "colab": {
          "base_uri": "https://localhost:8080/"
        },
        "id": "9lxnCzZ6fymw",
        "outputId": "dca24b38-ea9d-4656-8a74-79b8883e4805"
      },
      "execution_count": null,
      "outputs": [
        {
          "output_type": "stream",
          "name": "stdout",
          "text": [
            "Express Lane is:\n",
            "4          18          62          84          \n",
            "Normal Lane Nodes between Express Lane Node 4 and Express Lane Node 18 are: \n",
            "4->6->9->\n",
            "Normal Lane Nodes between Express Lane Node 18 and Express Lane Node 62 are: \n",
            "18->25->37->\n",
            "Normal Lane Nodes between Express Lane Node 62 and Express Lane Node 84 are: \n",
            "62->67->79->\n",
            "Normal Lane Nodes ending in the Express Lane Node: 84\n",
            "==========1===========\n",
            "Accepted\n",
            "67 Found\n",
            "==========2===========\n",
            "Accepted\n",
            "84 Found\n",
            "==========3===========\n",
            "Accepted\n",
            "1 Not Found\n",
            "==========4===========\n",
            "Accepted\n",
            "92 Not Found\n",
            "==========5===========\n",
            "Accepted\n",
            "41 Not Found\n"
          ]
        }
      ]
    }
  ]
}